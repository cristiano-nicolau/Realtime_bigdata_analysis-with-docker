{
 "cells": [
  {
   "cell_type": "code",
   "execution_count": 1,
   "metadata": {},
   "outputs": [
    {
     "name": "stdout",
     "output_type": "stream",
     "text": [
      "                        timestamp     open     high      low    close  \\\n",
      "0       2017-01-02 09:15:00+05:30   338.70   338.70   336.60   338.00   \n",
      "741092  2017-01-02 09:15:00+05:30   605.00   605.00   601.00   601.45   \n",
      "1111638 2017-01-02 09:15:00+05:30   719.80   720.90   716.35   720.15   \n",
      "370546  2017-01-02 09:15:00+05:30   451.40   452.00   450.60   451.20   \n",
      "1       2017-01-02 09:16:00+05:30   337.40   337.70   337.15   337.30   \n",
      "...                           ...      ...      ...      ...      ...   \n",
      "370544  2021-01-01 15:28:00+05:30   231.15   231.35   231.10   231.20   \n",
      "741091  2021-01-01 15:29:00+05:30   622.20   624.50   622.00   623.40   \n",
      "370545  2021-01-01 15:29:00+05:30   231.20   231.35   231.00   231.10   \n",
      "1111637 2021-01-01 15:29:00+05:30  1421.95  1423.45  1421.20  1423.45   \n",
      "1482183 2021-01-01 15:29:00+05:30  1994.50  1996.00  1993.00  1993.20   \n",
      "\n",
      "          volume Bank_Name  \n",
      "0         4667.0       RBL  \n",
      "741092    7033.0      HDFC  \n",
      "1111638   8916.0     KOTAK  \n",
      "370546   29198.0      AXIS  \n",
      "1         1629.0       RBL  \n",
      "...          ...       ...  \n",
      "370544   26162.0       RBL  \n",
      "741091   24345.0      AXIS  \n",
      "370545   23163.0       RBL  \n",
      "1111637  16686.0      HDFC  \n",
      "1482183   1594.0     KOTAK  \n",
      "\n",
      "[1482184 rows x 7 columns]\n"
     ]
    }
   ],
   "source": [
    "import os\n",
    "import pandas as pd\n",
    "\n",
    "# Caminho para a pasta com os CSVs\n",
    "data_folder = 'data/'\n",
    "\n",
    "# Verifica se a pasta existe\n",
    "if not os.path.exists(data_folder):\n",
    "    raise FileNotFoundError(f\"The folder '{data_folder}' does not exist.\")\n",
    "\n",
    "# Lista de todos os arquivos CSV na pasta\n",
    "csv_files = [f for f in os.listdir(data_folder) if f.endswith('.csv')]\n",
    "\n",
    "# Verifica se há arquivos CSV na pasta\n",
    "if not csv_files:\n",
    "    raise FileNotFoundError(f\"No CSV files found in the folder '{data_folder}'.\")\n",
    "\n",
    "# Lista para armazenar os DataFrames\n",
    "dfs = []\n",
    "\n",
    "# Itera sobre os arquivos CSV\n",
    "for file in csv_files:\n",
    "    # Lê o arquivo CSV\n",
    "    df = pd.read_csv(os.path.join(data_folder, file))\n",
    "    \n",
    "    # Verifica se a coluna 'timestamp' existe\n",
    "    if 'timestamp' not in df.columns:\n",
    "        raise ValueError(f\"The file '{file}' does not contain a 'timestamp' column.\")\n",
    "    \n",
    "    # Adiciona a coluna 'Bank_Name' (extraído do nome do arquivo)\n",
    "    bank_name = file.split('BANK')[0]  # Obtém o nome do banco antes de 'BANK'\n",
    "    df['Bank_Name'] = bank_name\n",
    "    \n",
    "    # Adiciona o DataFrame à lista\n",
    "    dfs.append(df)\n",
    "\n",
    "# Concatena todos os DataFrames em um único DataFrame\n",
    "final_df = pd.concat(dfs, ignore_index=True)\n",
    "\n",
    "# Converte a coluna 'timestamp' para datetime, se necessário\n",
    "final_df['timestamp'] = pd.to_datetime(final_df['timestamp'])\n",
    "\n",
    "# Ordena o DataFrame pela coluna 'timestamp'\n",
    "final_df = final_df.sort_values(by='timestamp')\n",
    "\n",
    "# Exibe o DataFrame final\n",
    "print(final_df)\n",
    "\n",
    "# Opcionalmente, salve o DataFrame final em um novo CSV\n",
    "final_df.to_csv('Stockmarket.csv', index=False)\n"
   ]
  },
  {
   "cell_type": "code",
   "execution_count": 2,
   "metadata": {},
   "outputs": [
    {
     "name": "stdout",
     "output_type": "stream",
     "text": [
      "DataFrame Original:\n",
      "                   timestamp   open   high     low   close   volume Bank_Name\n",
      "0  2017-01-02 09:15:00+05:30  338.7  338.7  336.60  338.00   4667.0       RBL\n",
      "1  2017-01-02 09:15:00+05:30  605.0  605.0  601.00  601.45   7033.0      HDFC\n",
      "2  2017-01-02 09:15:00+05:30  719.8  720.9  716.35  720.15   8916.0     KOTAK\n",
      "3  2017-01-02 09:15:00+05:30  451.4  452.0  450.60  451.20  29198.0      AXIS\n",
      "4  2017-01-02 09:16:00+05:30  337.4  337.7  337.15  337.30   1629.0       RBL\n",
      "\n",
      "DataFrame Corrigido:\n",
      "                   timestamp Bank_Name   open   high     low   close   volume\n",
      "0  2017-01-02 09:15:00+05:30       RBL  338.7  338.7  336.60  338.00   4667.0\n",
      "1  2017-01-02 09:15:00+05:30      HDFC  605.0  605.0  601.00  601.45   7033.0\n",
      "2  2017-01-02 09:15:00+05:30     KOTAK  719.8  720.9  716.35  720.15   8916.0\n",
      "3  2017-01-02 09:15:00+05:30      AXIS  451.4  452.0  450.60  451.20  29198.0\n",
      "4  2017-01-02 09:16:00+05:30       RBL  337.4  337.7  337.15  337.30   1629.0\n"
     ]
    }
   ],
   "source": [
    "import pandas as pd\n",
    "\n",
    "# Carrega o arquivo CSV\n",
    "df = pd.read_csv(\"Stockmarket.csv\")\n",
    "\n",
    "# Verifica o DataFrame original\n",
    "print(\"DataFrame Original:\")\n",
    "print(df.head())\n",
    "\n",
    "# Reorganiza as colunas para colocar o nome do banco como a segunda coluna\n",
    "columns_order = [\"timestamp\", \"Bank_Name\", \"open\", \"high\", \"low\", \"close\", \"volume\"]\n",
    "df = df[columns_order]\n",
    "\n",
    "# Salva o CSV corrigido\n",
    "df.to_csv(\"Stockmarket.csv\", index=False)\n",
    "\n",
    "print(\"\\nDataFrame Corrigido:\")\n",
    "print(df.head())\n"
   ]
  }
 ],
 "metadata": {
  "kernelspec": {
   "display_name": "env_ds",
   "language": "python",
   "name": "python3"
  },
  "language_info": {
   "codemirror_mode": {
    "name": "ipython",
    "version": 3
   },
   "file_extension": ".py",
   "mimetype": "text/x-python",
   "name": "python",
   "nbconvert_exporter": "python",
   "pygments_lexer": "ipython3",
   "version": "3.10.15"
  }
 },
 "nbformat": 4,
 "nbformat_minor": 2
}
